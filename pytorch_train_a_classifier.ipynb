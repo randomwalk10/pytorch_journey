{
 "cells": [
  {
   "cell_type": "markdown",
   "metadata": {},
   "source": [
    "# Train a classifier\n",
    "\n",
    "Follow the instruction [here](https://pytorch.org/tutorials/beginner/blitz/cifar10_tutorial.html#sphx-glr-beginner-blitz-cifar10-tutorial-py)"
   ]
  },
  {
   "cell_type": "code",
   "execution_count": 1,
   "metadata": {},
   "outputs": [],
   "source": [
    "# imports\n",
    "import torch\n",
    "import torchvision\n",
    "import torchvision.transforms as transforms\n",
    "\n",
    "import matplotlib.pyplot as plt\n",
    "import numpy as np"
   ]
  },
  {
   "cell_type": "code",
   "execution_count": 2,
   "metadata": {},
   "outputs": [
    {
     "name": "stdout",
     "output_type": "stream",
     "text": [
      "Files already downloaded and verified\n",
      "Files already downloaded and verified\n"
     ]
    }
   ],
   "source": [
    "# build transform pipeline\n",
    "transform = transforms.Compose(\n",
    "    [transforms.ToTensor(), # convert value to [0,1]\n",
    "     transforms.Normalize((0.5, 0.5, 0.5), (0.5, 0.5, 0.5))]) # normalize three channels to [-1,1]\n",
    "\n",
    "# get training data\n",
    "trainset = torchvision.datasets.CIFAR10(root='./data', train=True,\n",
    "                                        download=True, transform=transform)\n",
    "trainloader = torch.utils.data.DataLoader(trainset, batch_size=4,\n",
    "                                          shuffle=True, num_workers=2)\n",
    "\n",
    "# get testing data\n",
    "testset = torchvision.datasets.CIFAR10(root='./data', train=False,\n",
    "                                       download=True, transform=transform)\n",
    "testloader = torch.utils.data.DataLoader(testset, batch_size=4,\n",
    "                                         shuffle=False, num_workers=2)\n",
    "\n",
    "# define classes\n",
    "classes = ('plane', 'car', 'bird', 'cat',\n",
    "           'deer', 'dog', 'frog', 'horse', 'ship', 'truck')"
   ]
  },
  {
   "cell_type": "code",
   "execution_count": 3,
   "metadata": {},
   "outputs": [
    {
     "data": {
      "image/png": "[encoded data removed]",
      "text/plain": [
       "<matplotlib.figure.Figure at 0x7f8aafe7d7b8>"
      ]
     },
     "metadata": {
      "needs_background": "light"
     },
     "output_type": "display_data"
    },
    {
     "name": "stdout",
     "output_type": "stream",
     "text": [
      "  cat  bird   car horse\n"
     ]
    }
   ],
   "source": [
    "# functions to show an image\n",
    "def imshow(img):\n",
    "    img = img / 2 + 0.5     # unnormalize\n",
    "    npimg = img.numpy()\n",
    "    plt.imshow(np.transpose(npimg, (1, 2, 0)))\n",
    "    plt.show()\n",
    "\n",
    "\n",
    "# get some random training images\n",
    "dataiter = iter(trainloader)\n",
    "images, labels = dataiter.next()\n",
    "\n",
    "# show images\n",
    "imshow(torchvision.utils.make_grid(images))\n",
    "# print labels\n",
    "print(' '.join('%5s' % classes[labels[j]] for j in range(4)))"
   ]
  },
  {
   "cell_type": "code",
   "execution_count": 4,
   "metadata": {},
   "outputs": [],
   "source": [
    "# define a CNN\n",
    "import torch.nn as nn\n",
    "import torch.nn.functional as F\n",
    "\n",
    "\n",
    "class Net(nn.Module):\n",
    "    def __init__(self):\n",
    "        super(Net, self).__init__()\n",
    "        self.conv1 = nn.Conv2d(3, 34, 3, padding=1)\n",
    "        self.conv2 = nn.Conv2d(34, 34, 3, padding=1)\n",
    "        self.conv3 = nn.Conv2d(34, 34, 3, padding=1)\n",
    "        self.conv4 = nn.Conv2d(34, 34, 3, padding=1)\n",
    "        self.conv5 = nn.Conv2d(34, 34, 3, padding=1)\n",
    "        self.fc1 = nn.Linear(34 * 32 * 32, 120)\n",
    "        self.fc2 = nn.Linear(120, 10)\n",
    "        self.dropout = nn.Dropout2d(0.1)\n",
    "\n",
    "    def forward(self, x):\n",
    "        x = F.relu(self.conv1(x))\n",
    "        x = self.dropout(F.relu(self.conv2(x)))\n",
    "        x = self.dropout(F.relu(self.conv3(x)))\n",
    "        x = self.dropout(F.relu(self.conv4(x)))\n",
    "        x = self.dropout(F.relu(self.conv5(x)))\n",
    "        x = x.view(-1, 34 * 32 * 32)\n",
    "        x = F.relu(self.fc1(x))\n",
    "        x = self.fc2(x)\n",
    "        return x\n",
    "\n",
    "\n",
    "net = Net()"
   ]
  },
  {
   "cell_type": "code",
   "execution_count": 5,
   "metadata": {},
   "outputs": [],
   "source": [
    "# define loss funcition and optimizer\n",
    "import torch.optim as optim\n",
    "\n",
    "criterion = nn.CrossEntropyLoss()\n",
    "optimizer = optim.SGD(net.parameters(), lr=0.001, momentum=0.9)"
   ]
  },
  {
   "cell_type": "code",
   "execution_count": 6,
   "metadata": {},
   "outputs": [
    {
     "data": {
      "text/plain": [
       "Net(\n",
       "  (conv1): Conv2d(3, 34, kernel_size=(3, 3), stride=(1, 1), padding=(1, 1))\n",
       "  (conv2): Conv2d(34, 34, kernel_size=(3, 3), stride=(1, 1), padding=(1, 1))\n",
       "  (conv3): Conv2d(34, 34, kernel_size=(3, 3), stride=(1, 1), padding=(1, 1))\n",
       "  (conv4): Conv2d(34, 34, kernel_size=(3, 3), stride=(1, 1), padding=(1, 1))\n",
       "  (conv5): Conv2d(34, 34, kernel_size=(3, 3), stride=(1, 1), padding=(1, 1))\n",
       "  (fc1): Linear(in_features=34816, out_features=120, bias=True)\n",
       "  (fc2): Linear(in_features=120, out_features=10, bias=True)\n",
       "  (dropout): Dropout2d(p=0.1)\n",
       ")"
      ]
     },
     "execution_count": 6,
     "metadata": {},
     "output_type": "execute_result"
    }
   ],
   "source": [
    "# use GPU\n",
    "device = torch.device(\"cuda:0\" if torch.cuda.is_available() else \"cpu\")\n",
    "# transfer model to GPU\n",
    "net.to(device)"
   ]
  },
  {
   "cell_type": "code",
   "execution_count": 7,
   "metadata": {},
   "outputs": [
    {
     "name": "stdout",
     "output_type": "stream",
     "text": [
      "[1,  2000] loss: 2.188\n",
      "[1,  4000] loss: 1.924\n",
      "[1,  6000] loss: 1.738\n",
      "[1,  8000] loss: 1.629\n",
      "[1, 10000] loss: 1.548\n",
      "[1, 12000] loss: 1.471\n",
      "[2,  2000] loss: 1.381\n",
      "[2,  4000] loss: 1.369\n",
      "[2,  6000] loss: 1.304\n",
      "[2,  8000] loss: 1.273\n",
      "[2, 10000] loss: 1.256\n",
      "[2, 12000] loss: 1.243\n",
      "[3,  2000] loss: 1.111\n",
      "[3,  4000] loss: 1.093\n",
      "[3,  6000] loss: 1.100\n",
      "[3,  8000] loss: 1.058\n",
      "[3, 10000] loss: 1.061\n",
      "[3, 12000] loss: 1.046\n",
      "[4,  2000] loss: 0.864\n",
      "[4,  4000] loss: 0.877\n",
      "[4,  6000] loss: 0.873\n",
      "[4,  8000] loss: 0.889\n",
      "[4, 10000] loss: 0.917\n",
      "[4, 12000] loss: 0.912\n",
      "[5,  2000] loss: 0.685\n",
      "[5,  4000] loss: 0.690\n",
      "[5,  6000] loss: 0.704\n",
      "[5,  8000] loss: 0.759\n",
      "[5, 10000] loss: 0.743\n",
      "[5, 12000] loss: 0.750\n",
      "[6,  2000] loss: 0.481\n",
      "[6,  4000] loss: 0.503\n",
      "[6,  6000] loss: 0.537\n",
      "[6,  8000] loss: 0.554\n",
      "[6, 10000] loss: 0.561\n",
      "[6, 12000] loss: 0.598\n",
      "[7,  2000] loss: 0.341\n",
      "[7,  4000] loss: 0.356\n",
      "[7,  6000] loss: 0.386\n",
      "[7,  8000] loss: 0.431\n",
      "[7, 10000] loss: 0.456\n",
      "[7, 12000] loss: 0.445\n",
      "[8,  2000] loss: 0.240\n",
      "[8,  4000] loss: 0.268\n",
      "[8,  6000] loss: 0.298\n",
      "[8,  8000] loss: 0.318\n",
      "[8, 10000] loss: 0.329\n",
      "[8, 12000] loss: 0.344\n",
      "[9,  2000] loss: 0.189\n",
      "[9,  4000] loss: 0.221\n",
      "[9,  6000] loss: 0.222\n",
      "[9,  8000] loss: 0.253\n",
      "[9, 10000] loss: 0.261\n",
      "[9, 12000] loss: 0.271\n",
      "[10,  2000] loss: 0.153\n",
      "[10,  4000] loss: 0.179\n",
      "[10,  6000] loss: 0.175\n",
      "[10,  8000] loss: 0.199\n",
      "[10, 10000] loss: 0.214\n",
      "[10, 12000] loss: 0.204\n",
      "Finished Training\n"
     ]
    }
   ],
   "source": [
    "# train network\n",
    "net.train()\n",
    "\n",
    "for epoch in range(10):  # loop over the dataset multiple times\n",
    "\n",
    "    running_loss = 0.0\n",
    "    for i, data in enumerate(trainloader, 0):\n",
    "        # get the inputs\n",
    "        inputs, labels = data\n",
    "        # transfer batch data onto GPU\n",
    "        inputs, labels = inputs.to(device), labels.to(device)\n",
    "        \n",
    "        # zero the parameter gradients\n",
    "        optimizer.zero_grad()\n",
    "\n",
    "        # forward + backward + optimize\n",
    "        outputs = net(inputs)\n",
    "        loss = criterion(outputs, labels)\n",
    "        loss.backward()\n",
    "        optimizer.step()\n",
    "\n",
    "        # print statistics\n",
    "        running_loss += loss.item()\n",
    "        if i % 2000 == 1999:    # print every 2000 mini-batches\n",
    "            print('[%d, %5d] loss: %.3f' %\n",
    "                  (epoch + 1, i + 1, running_loss / 2000))\n",
    "            running_loss = 0.0\n",
    "\n",
    "print('Finished Training')"
   ]
  },
  {
   "cell_type": "code",
   "execution_count": 8,
   "metadata": {},
   "outputs": [
    {
     "data": {
      "image/png": "[encoded data removed]",
      "text/plain": [
       "<matplotlib.figure.Figure at 0x7f8aafe746d8>"
      ]
     },
     "metadata": {
      "needs_background": "light"
     },
     "output_type": "display_data"
    },
    {
     "name": "stdout",
     "output_type": "stream",
     "text": [
      "GroundTruth:    cat  ship  ship plane\n"
     ]
    }
   ],
   "source": [
    "# switch to eval mode\n",
    "net.eval()\n",
    "\n",
    "# load test data\n",
    "dataiter = iter(testloader)\n",
    "images, labels = dataiter.next()\n",
    "\n",
    "# print images\n",
    "imshow(torchvision.utils.make_grid(images))\n",
    "print('GroundTruth: ', ' '.join('%5s' % classes[labels[j]] for j in range(4)))"
   ]
  },
  {
   "cell_type": "code",
   "execution_count": 9,
   "metadata": {},
   "outputs": [
    {
     "name": "stdout",
     "output_type": "stream",
     "text": [
      "Predicted:    cat plane plane plane\n"
     ]
    }
   ],
   "source": [
    "# make predicition        \n",
    "images = images.to(device)\n",
    "outputs = net(images)\n",
    "_, predicted = torch.max(outputs, 1)\n",
    "\n",
    "# print out preditions\n",
    "print('Predicted: ', ' '.join('%5s' % classes[predicted[j]]\n",
    "                              for j in range(4)))"
   ]
  },
  {
   "cell_type": "code",
   "execution_count": 10,
   "metadata": {},
   "outputs": [
    {
     "name": "stdout",
     "output_type": "stream",
     "text": [
      "Accuracy of the network on the 10000 test images: 61 %\n"
     ]
    }
   ],
   "source": [
    "# evaluate the model on the whole dataset\n",
    "correct = 0\n",
    "total = 0\n",
    "with torch.no_grad():\n",
    "    for data in testloader:\n",
    "        images, labels = data\n",
    "        images, labels = images.to(device), labels.to(device)\n",
    "        outputs = net(images)\n",
    "        _, predicted = torch.max(outputs.data, 1)\n",
    "        total += labels.size(0)\n",
    "        correct += (predicted == labels).sum().item()\n",
    "\n",
    "print('Accuracy of the network on the 10000 test images: %d %%' % (\n",
    "    100 * correct / total))"
   ]
  },
  {
   "cell_type": "code",
   "execution_count": 11,
   "metadata": {},
   "outputs": [
    {
     "name": "stdout",
     "output_type": "stream",
     "text": [
      "Accuracy of plane : 71 %\n",
      "Accuracy of   car : 64 %\n",
      "Accuracy of  bird : 46 %\n",
      "Accuracy of   cat : 48 %\n",
      "Accuracy of  deer : 45 %\n",
      "Accuracy of   dog : 50 %\n",
      "Accuracy of  frog : 74 %\n",
      "Accuracy of horse : 61 %\n",
      "Accuracy of  ship : 69 %\n",
      "Accuracy of truck : 79 %\n"
     ]
    }
   ],
   "source": [
    "# take a deeper look into the performance on each class\n",
    "class_correct = list(0. for i in range(10))\n",
    "class_total = list(0. for i in range(10))\n",
    "with torch.no_grad():\n",
    "    for data in testloader:\n",
    "        images, labels = data\n",
    "        images, labels = images.to(device), labels.to(device)\n",
    "        outputs = net(images)\n",
    "        _, predicted = torch.max(outputs, 1)\n",
    "        c = (predicted == labels).squeeze()\n",
    "        for i in range(4):\n",
    "            label = labels[i]\n",
    "            class_correct[label] += c[i].item()\n",
    "            class_total[label] += 1\n",
    "\n",
    "\n",
    "for i in range(10):\n",
    "    print('Accuracy of %5s : %2d %%' % (\n",
    "        classes[i], 100 * class_correct[i] / class_total[i]))"
   ]
  },
  {
   "cell_type": "code",
   "execution_count": null,
   "metadata": {},
   "outputs": [],
   "source": []
  }
 ],
 "metadata": {
  "kernelspec": {
   "display_name": "Python 3",
   "language": "python",
   "name": "python3"
  },
  "language_info": {
   "codemirror_mode": {
    "name": "ipython",
    "version": 3
   },
   "file_extension": ".py",
   "mimetype": "text/x-python",
   "name": "python",
   "nbconvert_exporter": "python",
   "pygments_lexer": "ipython3",
   "version": "3.5.4"
  }
 },
 "nbformat": 4,
 "nbformat_minor": 2
}
